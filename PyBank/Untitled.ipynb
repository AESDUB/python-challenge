{
 "cells": [
  {
   "cell_type": "code",
   "execution_count": 2,
   "metadata": {},
   "outputs": [],
   "source": [
    "#Import dependencies\n",
    "import os\n",
    "import csv"
   ]
  },
  {
   "cell_type": "code",
   "execution_count": 3,
   "metadata": {},
   "outputs": [],
   "source": [
    "#Load the dataset\n",
    "path_to_folder = 'Resources'\n",
    "data_file = 'budget_data.csv'\n",
    "text_file = 'Financial_Statistics.txt'\n",
    "input_file = os.path.join(path_to_folder, data_file)"
   ]
  },
  {
   "cell_type": "code",
   "execution_count": 4,
   "metadata": {},
   "outputs": [
    {
     "name": "stdout",
     "output_type": "stream",
     "text": [
      "Resources/budget_data.csv\n"
     ]
    }
   ],
   "source": [
    "print(input_file)"
   ]
  },
  {
   "cell_type": "code",
   "execution_count": null,
   "metadata": {},
   "outputs": [],
   "source": [
    "with open(input_file) as budget_fie:\n",
    "    budget_reader = csv.reader(budget_file, delimiter=',')\n",
    "    "
   ]
  },
  {
   "cell_type": "code",
   "execution_count": null,
   "metadata": {},
   "outputs": [],
   "source": []
  },
  {
   "cell_type": "code",
   "execution_count": null,
   "metadata": {},
   "outputs": [],
   "source": []
  },
  {
   "cell_type": "code",
   "execution_count": null,
   "metadata": {},
   "outputs": [],
   "source": []
  },
  {
   "cell_type": "code",
   "execution_count": null,
   "metadata": {},
   "outputs": [],
   "source": []
  },
  {
   "cell_type": "code",
   "execution_count": null,
   "metadata": {},
   "outputs": [],
   "source": []
  },
  {
   "cell_type": "code",
   "execution_count": null,
   "metadata": {},
   "outputs": [],
   "source": []
  },
  {
   "cell_type": "code",
   "execution_count": null,
   "metadata": {},
   "outputs": [],
   "source": []
  },
  {
   "cell_type": "code",
   "execution_count": null,
   "metadata": {},
   "outputs": [],
   "source": []
  },
  {
   "cell_type": "code",
   "execution_count": 1,
   "metadata": {},
   "outputs": [
    {
     "name": "stdout",
     "output_type": "stream",
     "text": [
      "\n",
      "Financial Analysis\n",
      "----------------------------\n",
      "Total Months: {len(total_months)}\n",
      "Total: ${sum(total_profit)}\n",
      "Average Change: {round(sum(monthly_profit_change)/len(monthly_profit_change),2)}\n",
      "Greatest Increase in Profits: {total_months[max_increase_month]} (${(str(max_increase_value))})\n",
      "Greatest Decrease in Profits: {total_months[max_decrease_month]} (${(str(max_decrease_value))})\n",
      "\n"
     ]
    }
   ],
   "source": [
    "#Import dependencies\n",
    "import os\n",
    "import csv\n",
    "#Load the dataset\n",
    "path_to_folder = 'Resources'\n",
    "data_file = 'budget_data.csv'\n",
    "text_file = 'Financial_Statistics.txt'\n",
    "input_file = os.path.join(path_to_folder, data_file)\n",
    "#Set Variables and lists for columns\n",
    "total_months = []\n",
    "total_profit = []\n",
    "monthly_profit_change = []\n",
    "#Open the csv in read mode\n",
    "with open(input_file,newline=\"\", encoding=\"utf-8\",) as budget:\n",
    "    #Store budget data in V csvreader\n",
    "    csvreader = csv.reader(budget,delimiter=\",\")\n",
    "    #Start on second row\n",
    "    header = next(csvreader)\n",
    "    #Iterate rows in stored data\n",
    "    for row in csvreader:\n",
    "    #For the total number of months included, append to total_months list\n",
    "        total_months.append(row[0])\n",
    "    #For the net total P/L, sum the second column\n",
    "        total_profit.append(int(row[1]))\n",
    "    #Check it worked\n",
    "    # print(total_months)\n",
    "    # print(total_profit)\n",
    "#For the average of changes, iterate through profits of each row \n",
    "    for i in range(len(total_profit)-1):\n",
    "        #append the difference into list monthly_profit_change\n",
    "        monthly_profit_change.append(total_profit[i+1]-total_profit[i])\n",
    "#For greatest increase in profits, find max from monthly_profit_change list\n",
    "max_increase_month = monthly_profit_change.index(max(monthly_profit_change))+1\n",
    "#For greatest decrease in profits, find min from monthly_profit_change list\n",
    "max_decrease_month = monthly_profit_change.index(min(monthly_profit_change))+1\n",
    "#print results\n",
    "results = \"\"\"\n",
    "Financial Analysis\n",
    "----------------------------\n",
    "Total Months: {len(total_months)}\n",
    "Total: ${sum(total_profit)}\n",
    "Average Change: {round(sum(monthly_profit_change)/len(monthly_profit_change),2)}\n",
    "Greatest Increase in Profits: {total_months[max_increase_month]} (${(str(max_increase_value))})\n",
    "Greatest Decrease in Profits: {total_months[max_decrease_month]} (${(str(max_decrease_value))})\n",
    "\"\"\"\n",
    "print(results)\n",
    "#Output files\n",
    "output_file = os.path.join(path_to_folder, text_file)\n",
    "with open(output_file,\"w\") as text_file:\n",
    "    text_file.write(results)"
   ]
  },
  {
   "cell_type": "code",
   "execution_count": null,
   "metadata": {},
   "outputs": [],
   "source": []
  }
 ],
 "metadata": {
  "kernelspec": {
   "display_name": "Python 3",
   "language": "python",
   "name": "python3"
  },
  "language_info": {
   "codemirror_mode": {
    "name": "ipython",
    "version": 3
   },
   "file_extension": ".py",
   "mimetype": "text/x-python",
   "name": "python",
   "nbconvert_exporter": "python",
   "pygments_lexer": "ipython3",
   "version": "3.7.4"
  }
 },
 "nbformat": 4,
 "nbformat_minor": 2
}
